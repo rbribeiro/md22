{
 "cells": [
  {
   "cell_type": "markdown",
   "id": "f9a19fe6",
   "metadata": {},
   "source": [
    "# Aprendizado de Máquina I (MD22) - 2025/02\n",
    "\n",
    "## Introdução ao Aprendizado de Máquina\n",
    "\n",
    "### O que é Aprendizado de Máquina?\n",
    "De modo geral, podemos dizer que *Aprendizado de Máquina* ( **Machine Learning** do inglês) é um subcampo da Inteligência Artificial que se concentra no desenvolvimento de algoritmos e modelos que permitem que os computadores _aprendam_ a partir de dados. Em vez de serem programados explicitamente para realizar uma tarefa, os sistemas de aprendizado de máquina usam dados para identificar padrões e tomar decisões.\n",
    "\n",
    "### Mas o que significa dizer que a máquina \"aprendeu\"?\n",
    "Do ponto de vista cognitivo, aprender é o processo de adquirir conhecimento ou habilidades por meio da experiência, estudo ou ensino. Nós, humanos, aprendemos a partir de exemplos, experiências passadas e feedback. Nós combinamos informações novas com o que já sabemos para formar conceitos, resolver problemas e tomar decisões. Embora usamos o mesmo termo _aprender_ para descrever o processo cognitivo humano, quando se trata de computadores, o aprendizado de máquina refere-se a um processo mais formal e matemático. A tabela abaixo resume algumas diferenças entre o aprendizado humano e o aprendizado de máquina (ML) e traça um paralelo entre os dois:\n",
    "| Aspecto                | Aprendizado Humano                          | Aprendizado de Máquina (ML)               |\n",
    "|------------------------|--------------------------------------------|-------------------------------------------|\n",
    "| Fonte de conhecimento   | Experiência, estudo, ensino                 | Dados históricos e exemplos            |\n",
    "| Processo de aprendizado | Intuitivo, baseado em contexto e experiência| Algoritmos matemáticos e estatísticos          |\n",
    "| Capacidade de generalização | Alta, adaptável a novas situações | Limitada, depende da qualidade dos dados e do modelo |\n",
    "| Feedback               | Imediato, contínuo e muitas vezes subjetivo | Baseado em métricas de desempenho e validação |\n",
    "| Capacidade de adaptação | Alta, aprende com novas experiências | Limitada, depende da atualização do modelo e dos dados |\n",
    "| Complexidade           | Alta, envolve emoções, intuição e contexto | Baixa a média, baseada em regras e padrões matemáticos | \n",
    "\n",
    "A título de exemplo, considere dois casos que envolvem duas classes comuns de problemas: _classificação_ e _regressão_. _Classificação_ envolve atribuir *rótulos* a dados com base em características observadas, como identificar se um e-mail é spam ou não. Regressão envolve prever valores contínuos, como prever o preço de uma casa com base em suas características. No primeiro caso, *aprender* significa identificar padrões nos dados de e-mails, _já classificados_, para classificar novos e-mails como spam ou não. Por exemplo, emails com palavras como \"promoção\" ou \"desconto\" podem ser mais propensos a serem classificados como spam. \n",
    "\n",
    "No segundo caso, *aprender* significa encontrar uma função matemática que relacione as características da casa (como tamanho, localização e número de quartos) ao seu preço. Por exemplo, uma casa maior em uma localização desejável pode ter um preço mais alto.\n",
    "\n",
    "### Como uma máquina aprende?\n",
    "O aprendizado de máquina envolve várias etapas, que podem ser resumidas da seguinte forma:\n",
    "1. **Coleta de Dados**: O primeiro passo é coletar dados relevantes para o problema que se deseja resolver. Esses dados podem ser obtidos de várias fontes, como bancos de dados, sensores, registros de transações, redes sociais, entre outros.\n",
    "2. **Pré-processamento de Dados**: Os dados coletados geralmente precisam ser limpos e preparados antes de serem usados. Isso pode incluir a remoção de valores ausentes, normalização de dados, transformação de variáveis e conversão de formatos.\n",
    "3. **Divisão dos Dados**: Os dados são frequentemente divididos em conjuntos de treinamento e teste. O conjunto de treinamento é usado para treinar o modelo, enquanto o conjunto de teste é usado para avaliar o desempenho do modelo em dados não vistos. Esta etapa é crucial por várias razões, incluindo a prevenção de _overfitting_, que é quando o modelo se ajusta muito bem aos dados de treinamento, mas não generaliza bem para novos dados, e a validação do modelo, que é essencial para garantirmos que o modelo é capaz de fazer previsões precisas em dados não vistos.\n",
    "4."
   ]
  }
 ],
 "metadata": {
  "language_info": {
   "name": "python"
  }
 },
 "nbformat": 4,
 "nbformat_minor": 5
}

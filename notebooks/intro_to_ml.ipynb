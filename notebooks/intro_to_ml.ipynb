{
 "cells": [
  {
   "cell_type": "markdown",
   "id": "f9a19fe6",
   "metadata": {},
   "source": [
    "# Aprendizado de Máquina I (MD22) - 2025/02\n",
    "\n",
    "## Introdução ao Aprendizado de Máquina\n",
    "Neste curso vamos constantemente usar palavras como *aprender* ou *aprendizado*, *modelo* e *algoritmo*. É importante que tenhamos uma compreensão clara do que esses termos significam, especialmente no contexto de aprendizado de máquina. Para preparar o território, vamos começar pelo começo!\n",
    "\n",
    "### Em linhas gerais, o que é Aprendizado de Máquina?\n",
    "Deixando o formalismo matemático um pouco de lado, podemos dizer que *Aprendizado de Máquina* ( **Machine Learning** do inglês) é um subcampo da Inteligência Artificial que se concentra no desenvolvimento de algoritmos e modelos que permitem que os computadores _aprendam_ a partir de dados. Em vez de serem programados explicitamente para realizar uma tarefa, os sistemas de aprendizado de máquina usam dados para identificar padrões e tomar decisões.\n",
    "\n",
    "### Mas o que significa dizer que a máquina \"aprendeu\"?\n",
    "Do ponto de vista cognitivo, aprender é o processo de adquirir conhecimento ou habilidades por meio da experiência, estudo ou ensino. Nós, humanos, aprendemos a partir de exemplos, experiências passadas e feedback. Nós combinamos informações novas com o que já sabemos para formar conceitos, resolver problemas e tomar decisões. Embora usamos o mesmo termo _aprender_ para descrever o processo cognitivo humano, quando se trata de computadores, o aprendizado de máquina refere-se a um processo mais formal e matemático. A tabela abaixo resume algumas diferenças entre o aprendizado humano e o aprendizado de máquina (ML) e traça um paralelo entre os dois:\n",
    "| Aspecto                | Aprendizado Humano                          | Aprendizado de Máquina (ML)               |\n",
    "|------------------------|--------------------------------------------|-------------------------------------------|\n",
    "| Fonte de conhecimento   | Experiência, estudo, ensino                 | Dados históricos e exemplos            |\n",
    "| Processo de aprendizado | Intuitivo, baseado em contexto e experiência| Algoritmos matemáticos e estatísticos          |\n",
    "| Capacidade de generalização | Alta, adaptável a novas situações | Limitada, depende da qualidade dos dados e do modelo |\n",
    "| Feedback               | Imediato, contínuo e muitas vezes subjetivo | Baseado em métricas de desempenho e validação |\n",
    "| Capacidade de adaptação | Alta, aprende com novas experiências | Limitada, depende da atualização do modelo e dos dados |\n",
    "| Complexidade           | Alta, envolve emoções, intuição e contexto | Baixa a média, baseada em regras e padrões matemáticos |\n",
    "\n",
    "### Um exemplo ingênuo mas ilustrativo de aprendizado de máquina\n",
    "A título de exemplo, considere um cenário em que queremos \"ensinar\" um computador a fazer previsões sobre o preço de uma casa com base em apenas uma característica: o tamanho da casa. Para isso, podemos usar um conjunto de dados que contém informações sobre várias casas, incluindo o tamanho (em metros quadrados) e o preço de venda.\n",
    "Suponha que temos os seguintes dados:\n",
    "| Tamanho (m²) | Preço (R$) |\n",
    "|--------------|-----------|\n",
    "| 50           | 150.000   |\n",
    "| 70           | 200.000   |\n",
    "| 100          | 275.000  |\n",
    "| 120          | 325.000   |\n",
    "\n",
    "Neste caso, o aprendizado de máquina pode ser visto como um processo em que o computador analisa esses dados para identificar uma relação entre o tamanho da casa e seu preço. Isto é, dizer que o computador \"aprendeu\" significa que ele conseguiu encontrar uma função matemática que relaciona o tamanho da casa ao seu preço. Por exemplo, o computador pode descobrir (veremos que existem métodos para isso) que, em média, cada metro quadrado adicional aumenta o preço da casa em R\\$ 2.500. Assim, se quisermos prever o preço de uma casa de 80 m², o computador pode usar a função aprendida para fazer essa previsão:\n",
    "\n",
    "$$\n",
    "\\text{Preço} = 150.000 + 2.500 \\times (80 - 50) = 150.000 + 75.000 = 225.000\n",
    "$$\n",
    "\n",
    "Portanto, o computador \"aprendeu\" a prever o preço de uma casa com base em seu tamanho, mesmo que não tenha sido explicitamente programado para fazer isso. Em vez disso, ele analisou os dados e encontrou uma relação entre as variáveis. Esse é um exemplo simples, mas ilustra o conceito fundamental de aprendizado de máquina: aprender a partir de dados para fazer previsões ou tomar decisões sem ser explicitamente programado para isso.\n",
    "\n",
    " É importante dizer que nosso exemplo é ingênuo por várias razões, como:\n",
    "- Ele considera apenas uma única característica (tamanho da casa) para prever o preço, enquanto na realidade, o preço de uma casa obviamente depende de muitas outras características, como localização, número de quartos, idade da casa, entre outros.\n",
    "- Muito provavelmente a relação entre o tamanho e o preço não é uma reta perfeita, ou seja, o aumento do preço pode não ser constante para cada metro quadrado adicional. Em muitos casos, a relação pode ser mais complexa, envolvendo interações entre várias características.\n",
    "- O exemplo não considera a incerteza nas previsões, que é uma parte importante do aprendizado de máquina. Em um cenário real, as previsões podem ter erros, e é importante quantificar e lidar com essa incerteza.\n",
    "Apesar dessas limitações, o exemplo ilustra o conceito básico de aprendizado de máquina: usar dados para aprender uma relação entre variáveis e fazer previsões. À medida que avançamos no curso, veremos como lidar com esses desafios e construir modelos mais robustos e precisos.\n",
    "- Já não existem mais casas à venda por R$ 150.000,00, não é mesmo? :(\n",
    "\n",
    "### Regressão x Classificação\n",
    "No exemplo acima, o objetivo era prever um valor contínuo (o preço da casa), o que é um caso de **regressão**. Por outro lado, em muitos problemas de aprendizado de máquina, o objetivo é prever uma categoria ou rótulo discreto, como classificar e-mails como \"spam\" ou \"não spam\", ou identificar se uma imagem contém um gato ou um cachorro. Esses problemas são chamados de **classificação**. A principal diferença entre regressão e classificação é que, na **regressão**, o objetivo é prever um valor contínuo, enquanto na **classificação**, o objetivo é prever uma categoria ou rótulo discreto.\n",
    "\n",
    "### O que é um modelo?\n",
    "No contexto de aprendizado de máquina, um **modelo** é uma representação matemática ou computacional que tenta capturar a relação entre as variáveis de entrada (características) e as variáveis de saída (rótulos ou alvos). No entanto, a relação real pode ser desconhecida ou muito complexa, e o modelo oferece apenas uma aproximação dessa relação com base nos dados disponíveis. O modelo é então o resultado do processo de aprendizado, onde o algoritmo analisa os dados de treinamento para identificar padrões e relações. \n",
    "\n",
    "No exemplo anterior, o modelo seria a função matemática que relaciona o tamanho da casa ao seu preço. Em termos mais técnicos, um modelo pode ser visto como uma função que mapeia entradas em saídas, e o processo de aprendizado envolve ajustar os parâmetros dessa função para minimizar a diferença entre as previsões do modelo e os valores reais nos dados de treinamento.\n",
    "\n",
    "### O que é um algoritmo de aprendizado de máquina?\n",
    "Um **algoritmo de aprendizado de máquina** é um conjunto de regras ou instruções que define como o modelo deve ser treinado a partir dos dados. Ele especifica como os dados de entrada são processados, como os parâmetros do modelo são ajustados e como as previsões são feitas. Em outras palavras, o algoritmo é o mecanismo que permite que o modelo aprenda a partir dos dados.\n",
    "Existem muitos tipos diferentes de algoritmos de aprendizado de máquina, cada um adequado para diferentes tipos de problemas e dados. Alguns exemplos comuns incluem:\n",
    "- **Regressão Linear**: Usado para prever valores contínuos com base em uma ou mais variáveis independentes. Ele assume uma relação linear entre as variáveis de entrada e a variável de saída.\n",
    "- **Redes Neurais**: Modelos inspirados no funcionamento do cérebro humano, compostos por camadas de neurônios artificiais. Eles são usados para uma ampla gama de tarefas, incluindo classificação de imagens, processamento de linguagem natural e reconhecimento de fala.\n",
    "\n",
    "### Como uma máquina aprende?\n",
    "O aprendizado de máquina envolve várias etapas, que podem ser resumidas da seguinte forma:\n",
    "1. **Coleta de Dados**: O primeiro passo é coletar dados relevantes para o problema que se deseja resolver. Esses dados podem ser obtidos de várias fontes, como bancos de dados, sensores, registros de transações, redes sociais, entre outros.\n",
    "2. **Pré-processamento de Dados**: Os dados coletados geralmente precisam ser limpos e preparados antes de serem usados. Isso pode incluir a remoção de valores ausentes, normalização de dados, transformação de variáveis e conversão de formatos.\n",
    "3. **Divisão dos Dados**: Os dados são frequentemente divididos em conjuntos de treinamento e teste. O conjunto de treinamento é usado para treinar o modelo, enquanto o conjunto de teste é usado para avaliar o desempenho do modelo em dados não vistos. Esta etapa é crucial por várias razões, incluindo a prevenção de _overfitting_, que é quando o modelo se ajusta muito bem aos dados de treinamento, mas não generaliza bem para novos dados, e a validação do modelo, que é essencial para garantirmos que o modelo é capaz de fazer previsões precisas em dados não vistos.\n",
    "4. **Seleção do Modelo**: Existem vários algoritmos de aprendizado de máquina disponíveis, e a escolha do modelo depende do tipo de problema (classificação, regressão, agrupamento, etc.) e das características dos dados. Alguns modelos populares incluem árvores de decisão, redes neurais, máquinas de vetores de suporte (SVM) e regressão linear. É nesta etapa que escolhemos o algoritmo de aprendizado de máquina mais adequado para o problema em questão. É este algoritmo que basicamente define como o modelo irá aprender a partir dos dados. \n",
    "\n",
    "    Por exemplo, se os dados apresentam uma relação próxima a uma linha reta, podemos usar um modelo de **regressão linear**, que tenta encontrar a melhor linha que se ajusta aos dados. Se os dados são mais complexos e não seguem uma relação linear, podemos optar por modelos mais sofisticados, como **redes neurais** ou **árvores de decisão**. Note que o computador não descobre padrões por si só; ele precisa de um algoritmo que defina como esses padrões serão identificados e aprendidos. O algoritmo é o coração do processo de aprendizado de máquina, pois é ele que determina como os dados serão processados e como o modelo será treinado.\n",
    "\n",
    "5. **Treinamento do Modelo**: O modelo é treinado usando o conjunto de treinamento. Durante o treinamento, o modelo ajusta seus parâmetros para minimizar a diferença entre as previsões do modelo e os valores reais nos dados de treinamento. Isso é feito por meio de técnicas de otimização, como o gradiente descendente.\n",
    "6. **Avaliação do Modelo**: Após o treinamento, o modelo é avaliado usando o conjunto de teste. Métricas como acurácia, precisão, recall e F1-score são usadas para medir o desempenho do modelo. Essas métricas ajudam a entender quão bem o modelo está se saindo em relação aos dados de teste e se ele é capaz de generalizar para novos dados.\n",
    "7. **Ajuste de Hiperparâmetros**: Os hiperparâmetros são parâmetros do modelo que não são aprendidos durante o treinamento, mas que precisam ser definidos antes do treinamento. O ajuste de hiperparâmetros envolve a seleção dos melhores valores para esses parâmetros, o que pode melhorar significativamente o desempenho do modelo. Isso pode ser feito por meio de técnicas como validação cruzada, busca em grade ou otimização bayesiana.\n",
    "8. **Implantação do Modelo**: Após a avaliação e ajuste, o modelo pode ser implantado em um ambiente de produção, onde pode fazer previsões em dados novos e não vistos. A implantação pode envolver a integração do modelo em aplicativos, sistemas ou serviços que utilizam as previsões do modelo.\n",
    "9. **Monitoramento e Manutenção**: Após a implantação, é importante monitorar o desempenho do modelo ao longo do tempo. Isso envolve verificar se o modelo continua a fazer previsões precisas e se os dados de entrada estão mudando. Se o desempenho do modelo diminuir, pode ser necessário re-treinar o modelo com novos dados ou ajustar os hiperparâmetros novamente. Além disso, é importante garantir que o modelo esteja atualizado com as últimas informações e tendências, o que pode exigir re-treinamento periódico.\n",
    "\n",
    "### Aprendizado Supervisionado x Não Supervisionado\n",
    "Os algoritmos de aprendizado de máquina podem ser classificados em duas categorias principais: **aprendizado supervisionado** e **aprendizado não supervisionado**. O principal diferencial entre esses dois tipos de aprendizado é a presença ou ausência de rótulos nos dados de treinamento.\n",
    "- **Aprendizado Supervisionado**: Neste tipo de aprendizado, os dados de treinamento incluem tanto as características de entrada quanto os rótulos ou alvos correspondentes. O modelo é treinado para aprender a mapear as características de entrada para os rótulos de saída. Por exemplo, em um problema de classificação de e-mails como \"spam\" ou \"não spam\", o modelo é treinado com um conjunto de e-mails rotulados, onde cada e-mail é marcado como \"spam\" ou \"não spam\". O objetivo é que o modelo aprenda a identificar padrões nos dados que o ajudem a classificar novos e-mails corretamente. Neste caso, o termo \"supervisionado\" refere-se ao fato de que o modelo recebe feedback explícito durante o treinamento, ou seja, ele sabe quais são os rótulos corretos para os dados de entrada. Isso permite que o modelo aprenda a fazer previsões com base em exemplos que já foram rotulados, ou, em outras palavras, *supervisionados*.\n",
    "- **Aprendizado Não Supervisionado**: Neste tipo de aprendizado, os dados de treinamento consistem apenas em características de entrada, sem rótulos ou alvos correspondentes. O modelo é treinado para identificar padrões ou estruturas nos dados sem supervisão explícita. Em um exemplo concreto, imagine que temos um banco de dados com informações sobre clientes, como idade, renda e hábitos de compra, mas sem rótulos que indiquem a categoria de cada cliente. Um algoritmo de aprendizado não supervisionado, como o **k-means**, pode ser usado para agrupar os clientes em segmentos com base em suas características, identificando grupos semelhantes sem saber previamente quais são esses grupos. Neste caso, o termo \"não supervisionado\" refere-se ao fato de que o modelo não recebe feedback explícito durante o treinamento, ou seja, ele não sabe quais são os rótulos corretos para os dados de entrada. Em vez disso, ele tenta descobrir padrões ou estruturas nos dados por conta própria.\n",
    "\n",
    "### Resumo\n",
    "Em resumo, o aprendizado de máquina é um campo da inteligência artificial que se concentra no desenvolvimento de algoritmos e modelos que permitem que os computadores aprendam a partir de dados. O processo de aprendizado envolve várias etapas, incluindo coleta de dados, pré-processamento, seleção do modelo, treinamento, avaliação e implantação do modelo. Os algoritmos de aprendizado de máquina podem ser classificados em aprendizado supervisionado e não supervisionado, dependendo da presença ou ausência de rótulos nos dados de treinamento. O aprendizado de máquina é uma ferramenta poderosa que permite que os computadores façam previsões, tomem decisões e identifiquem padrões em grandes volumes de dados, e é amplamente utilizado em uma variedade de aplicações, desde reconhecimento de fala e imagem até sistemas de recomendação e análise preditiva.\n"
   ]
  },
  {
   "cell_type": "markdown",
   "id": "8835643a",
   "metadata": {},
   "source": [
    "# Um pouco mais de formalismo\n",
    "Nós discutimos o que é aprendizado de máquina de forma geral, mas é importante também termos uma noção mais formal do que isso significa. Vamos começar com um exemplo concreto e, a partir dele, vamos formalizar alguns conceitos importantes. Por fim, vamos formalizar o que é aprendizado de máquina (ou aprendizado estatístico) como um problema matemático.\n",
    "\n",
    "## Lei de Hooke\n",
    "A Lei de Hooke é uma lei física que descreve o comportamento de materiais elásticos, como molas, quando são submetidos a uma força. Ela afirma que a deformação de um material elástico é proporcional à força aplicada a ele, desde que essa força não ultrapasse o limite elástico do material. A lei é expressa matematicamente como:\n",
    "$$F = k \\cdot x$$\n",
    "onde:\n",
    "- $F$ é a força aplicada ao material (em Newtons),\n",
    "- $k$ é a constante elástica do material (em N/m), que depende das propriedades do material e da geometria do objeto,\n",
    "- $x$ é a deformação do material (em metros), que é a diferença entre o comprimento original do material e o comprimento após a aplicação da força.\n",
    "A Lei de Hooke é uma relação linear entre a força aplicada e a deformação do material, o que significa que, se dobrarmos a força aplicada, a deformação também dobrará, desde que o material permaneça dentro de seu limite elástico.\n",
    "\n",
    "Suponha que não conhecemos a lei de Hooke, mas temos um conjunto de dados que relaciona a deformação aplicada (em metros) com a força medida necessária para deformar a mola. Esses dados podem ser representados em uma tabela relacionando a deformação aplicada e a força medida:\n",
    "| Deformação (m) | Força (N) |\n",
    "|----------------|-----------|\n",
    "| 0.0            | 0.1       |\n",
    "| 0.1            | 1.2       |\n",
    "| 0.2            | 2.1       |\n",
    "| 0.3            | 3.3       |\n",
    "| 0.4            | 4.0       |\n",
    "| 0.5            | 5.1       |\n",
    "| 0.6            | 6.2       |\n",
    "| 0.7            | 7.0       |\n",
    "| 0.8            | 8.3       |\n",
    "| 0.9            | 9.1       |\n",
    "| 1.0            | 10.2      |\n",
    "\n",
    "Um ponto importante sobre esses dados é que eles não representam a relação exata entre a força e a deformação, mas sim uma aproximação dessa relação. Uma das razões para isso é que os dados podem conter erros de medição, ruído ou outras fontes de variação. Há incertezas quando medimos a deformação de uma mola e a força aplicada a ela. Portanto, se existe uma relação (função) exata entre a força e a deformação, a nossa tabela, na verdade, representa uma aproximação dessa relação. Mais formalmente, podemos dizer que os dados são gerados a partir de uma função $f$ (desconhecida) com algum ruído adicionado. Ou seja, temos:\n",
    "$$\n",
    "y_i = f(x_i) + \\epsilon_i\n",
    "$$\n",
    "onde: \n",
    "- $y_i$ é a força medida para a deformação $x_i$,\n",
    "- $f(x_i)$ é a função exata que relaciona a deformação e a força,\n",
    "- $\\epsilon_i$ é o erro de medição ou ruído associado à medição da força para a deformação $x_i$.\n",
    "A função $f$ é a relação exata entre a deformação e a força, mas não a conhecemos. O que temos são os dados $y_i$ e $x_i$, que são as medições da força e da deformação, respectivamente. O objetivo é encontrar uma função $f$ que se aproxime o máximo possível dos dados observados, minimizando o erro $\\epsilon_i$."
   ]
  },
  {
   "cell_type": "code",
   "execution_count": 1,
   "id": "f25aba1b",
   "metadata": {},
   "outputs": [
    {
     "data": {
      "application/vnd.plotly.v1+json": {
       "config": {
        "plotlyServerURL": "https://plot.ly"
       },
       "data": [
        {
         "marker": {
          "color": "blue"
         },
         "mode": "markers",
         "name": "Dados com ruído",
         "type": "scatter",
         "x": {
          "bdata": "AAAAAAAAAACamZmZmZm5P5qZmZmZmck/NDMzMzMz0z+amZmZmZnZPwAAAAAAAOA/NDMzMzMz4z9nZmZmZmbmP5qZmZmZmek/zczMzMzM7D8AAAAAAADwPw==",
          "dtype": "f8"
         },
         "y": {
          "bdata": "mpmZmZmZuT8zMzMzMzPzP83MzMzMzABAZmZmZmZmCkAAAAAAAAAQQGZmZmZmZhRAzczMzMzMGEAAAAAAAAAcQJqZmZmZmSBAMzMzMzMzIkBmZmZmZmYkQA==",
          "dtype": "f8"
         }
        },
        {
         "line": {
          "color": "red",
          "dash": "dash"
         },
         "mode": "lines",
         "name": "Relação linear esperada",
         "type": "scatter",
         "x": {
          "bdata": "AAAAAAAAAACamZmZmZm5P5qZmZmZmck/NDMzMzMz0z+amZmZmZnZPwAAAAAAAOA/NDMzMzMz4z9nZmZmZmbmP5qZmZmZmek/zczMzMzM7D8AAAAAAADwPw==",
          "dtype": "f8"
         },
         "y": {
          "bdata": "AAAAAAAAAAAAAAAAAADwPwAAAAAAAABAAQAAAAAACEAAAAAAAAAQQAAAAAAAABRAAQAAAAAAGEABAAAAAAAcQAAAAAAAACBAAAAAAAAAIkAAAAAAAAAkQA==",
          "dtype": "f8"
         }
        }
       ],
       "layout": {
        "legend": {
         "font": {
          "size": 10
         }
        },
        "template": {
         "data": {
          "bar": [
           {
            "error_x": {
             "color": "#2a3f5f"
            },
            "error_y": {
             "color": "#2a3f5f"
            },
            "marker": {
             "line": {
              "color": "white",
              "width": 0.5
             },
             "pattern": {
              "fillmode": "overlay",
              "size": 10,
              "solidity": 0.2
             }
            },
            "type": "bar"
           }
          ],
          "barpolar": [
           {
            "marker": {
             "line": {
              "color": "white",
              "width": 0.5
             },
             "pattern": {
              "fillmode": "overlay",
              "size": 10,
              "solidity": 0.2
             }
            },
            "type": "barpolar"
           }
          ],
          "carpet": [
           {
            "aaxis": {
             "endlinecolor": "#2a3f5f",
             "gridcolor": "#C8D4E3",
             "linecolor": "#C8D4E3",
             "minorgridcolor": "#C8D4E3",
             "startlinecolor": "#2a3f5f"
            },
            "baxis": {
             "endlinecolor": "#2a3f5f",
             "gridcolor": "#C8D4E3",
             "linecolor": "#C8D4E3",
             "minorgridcolor": "#C8D4E3",
             "startlinecolor": "#2a3f5f"
            },
            "type": "carpet"
           }
          ],
          "choropleth": [
           {
            "colorbar": {
             "outlinewidth": 0,
             "ticks": ""
            },
            "type": "choropleth"
           }
          ],
          "contour": [
           {
            "colorbar": {
             "outlinewidth": 0,
             "ticks": ""
            },
            "colorscale": [
             [
              0,
              "#0d0887"
             ],
             [
              0.1111111111111111,
              "#46039f"
             ],
             [
              0.2222222222222222,
              "#7201a8"
             ],
             [
              0.3333333333333333,
              "#9c179e"
             ],
             [
              0.4444444444444444,
              "#bd3786"
             ],
             [
              0.5555555555555556,
              "#d8576b"
             ],
             [
              0.6666666666666666,
              "#ed7953"
             ],
             [
              0.7777777777777778,
              "#fb9f3a"
             ],
             [
              0.8888888888888888,
              "#fdca26"
             ],
             [
              1,
              "#f0f921"
             ]
            ],
            "type": "contour"
           }
          ],
          "contourcarpet": [
           {
            "colorbar": {
             "outlinewidth": 0,
             "ticks": ""
            },
            "type": "contourcarpet"
           }
          ],
          "heatmap": [
           {
            "colorbar": {
             "outlinewidth": 0,
             "ticks": ""
            },
            "colorscale": [
             [
              0,
              "#0d0887"
             ],
             [
              0.1111111111111111,
              "#46039f"
             ],
             [
              0.2222222222222222,
              "#7201a8"
             ],
             [
              0.3333333333333333,
              "#9c179e"
             ],
             [
              0.4444444444444444,
              "#bd3786"
             ],
             [
              0.5555555555555556,
              "#d8576b"
             ],
             [
              0.6666666666666666,
              "#ed7953"
             ],
             [
              0.7777777777777778,
              "#fb9f3a"
             ],
             [
              0.8888888888888888,
              "#fdca26"
             ],
             [
              1,
              "#f0f921"
             ]
            ],
            "type": "heatmap"
           }
          ],
          "histogram": [
           {
            "marker": {
             "pattern": {
              "fillmode": "overlay",
              "size": 10,
              "solidity": 0.2
             }
            },
            "type": "histogram"
           }
          ],
          "histogram2d": [
           {
            "colorbar": {
             "outlinewidth": 0,
             "ticks": ""
            },
            "colorscale": [
             [
              0,
              "#0d0887"
             ],
             [
              0.1111111111111111,
              "#46039f"
             ],
             [
              0.2222222222222222,
              "#7201a8"
             ],
             [
              0.3333333333333333,
              "#9c179e"
             ],
             [
              0.4444444444444444,
              "#bd3786"
             ],
             [
              0.5555555555555556,
              "#d8576b"
             ],
             [
              0.6666666666666666,
              "#ed7953"
             ],
             [
              0.7777777777777778,
              "#fb9f3a"
             ],
             [
              0.8888888888888888,
              "#fdca26"
             ],
             [
              1,
              "#f0f921"
             ]
            ],
            "type": "histogram2d"
           }
          ],
          "histogram2dcontour": [
           {
            "colorbar": {
             "outlinewidth": 0,
             "ticks": ""
            },
            "colorscale": [
             [
              0,
              "#0d0887"
             ],
             [
              0.1111111111111111,
              "#46039f"
             ],
             [
              0.2222222222222222,
              "#7201a8"
             ],
             [
              0.3333333333333333,
              "#9c179e"
             ],
             [
              0.4444444444444444,
              "#bd3786"
             ],
             [
              0.5555555555555556,
              "#d8576b"
             ],
             [
              0.6666666666666666,
              "#ed7953"
             ],
             [
              0.7777777777777778,
              "#fb9f3a"
             ],
             [
              0.8888888888888888,
              "#fdca26"
             ],
             [
              1,
              "#f0f921"
             ]
            ],
            "type": "histogram2dcontour"
           }
          ],
          "mesh3d": [
           {
            "colorbar": {
             "outlinewidth": 0,
             "ticks": ""
            },
            "type": "mesh3d"
           }
          ],
          "parcoords": [
           {
            "line": {
             "colorbar": {
              "outlinewidth": 0,
              "ticks": ""
             }
            },
            "type": "parcoords"
           }
          ],
          "pie": [
           {
            "automargin": true,
            "type": "pie"
           }
          ],
          "scatter": [
           {
            "fillpattern": {
             "fillmode": "overlay",
             "size": 10,
             "solidity": 0.2
            },
            "type": "scatter"
           }
          ],
          "scatter3d": [
           {
            "line": {
             "colorbar": {
              "outlinewidth": 0,
              "ticks": ""
             }
            },
            "marker": {
             "colorbar": {
              "outlinewidth": 0,
              "ticks": ""
             }
            },
            "type": "scatter3d"
           }
          ],
          "scattercarpet": [
           {
            "marker": {
             "colorbar": {
              "outlinewidth": 0,
              "ticks": ""
             }
            },
            "type": "scattercarpet"
           }
          ],
          "scattergeo": [
           {
            "marker": {
             "colorbar": {
              "outlinewidth": 0,
              "ticks": ""
             }
            },
            "type": "scattergeo"
           }
          ],
          "scattergl": [
           {
            "marker": {
             "colorbar": {
              "outlinewidth": 0,
              "ticks": ""
             }
            },
            "type": "scattergl"
           }
          ],
          "scattermap": [
           {
            "marker": {
             "colorbar": {
              "outlinewidth": 0,
              "ticks": ""
             }
            },
            "type": "scattermap"
           }
          ],
          "scattermapbox": [
           {
            "marker": {
             "colorbar": {
              "outlinewidth": 0,
              "ticks": ""
             }
            },
            "type": "scattermapbox"
           }
          ],
          "scatterpolar": [
           {
            "marker": {
             "colorbar": {
              "outlinewidth": 0,
              "ticks": ""
             }
            },
            "type": "scatterpolar"
           }
          ],
          "scatterpolargl": [
           {
            "marker": {
             "colorbar": {
              "outlinewidth": 0,
              "ticks": ""
             }
            },
            "type": "scatterpolargl"
           }
          ],
          "scatterternary": [
           {
            "marker": {
             "colorbar": {
              "outlinewidth": 0,
              "ticks": ""
             }
            },
            "type": "scatterternary"
           }
          ],
          "surface": [
           {
            "colorbar": {
             "outlinewidth": 0,
             "ticks": ""
            },
            "colorscale": [
             [
              0,
              "#0d0887"
             ],
             [
              0.1111111111111111,
              "#46039f"
             ],
             [
              0.2222222222222222,
              "#7201a8"
             ],
             [
              0.3333333333333333,
              "#9c179e"
             ],
             [
              0.4444444444444444,
              "#bd3786"
             ],
             [
              0.5555555555555556,
              "#d8576b"
             ],
             [
              0.6666666666666666,
              "#ed7953"
             ],
             [
              0.7777777777777778,
              "#fb9f3a"
             ],
             [
              0.8888888888888888,
              "#fdca26"
             ],
             [
              1,
              "#f0f921"
             ]
            ],
            "type": "surface"
           }
          ],
          "table": [
           {
            "cells": {
             "fill": {
              "color": "#EBF0F8"
             },
             "line": {
              "color": "white"
             }
            },
            "header": {
             "fill": {
              "color": "#C8D4E3"
             },
             "line": {
              "color": "white"
             }
            },
            "type": "table"
           }
          ]
         },
         "layout": {
          "annotationdefaults": {
           "arrowcolor": "#2a3f5f",
           "arrowhead": 0,
           "arrowwidth": 1
          },
          "autotypenumbers": "strict",
          "coloraxis": {
           "colorbar": {
            "outlinewidth": 0,
            "ticks": ""
           }
          },
          "colorscale": {
           "diverging": [
            [
             0,
             "#8e0152"
            ],
            [
             0.1,
             "#c51b7d"
            ],
            [
             0.2,
             "#de77ae"
            ],
            [
             0.3,
             "#f1b6da"
            ],
            [
             0.4,
             "#fde0ef"
            ],
            [
             0.5,
             "#f7f7f7"
            ],
            [
             0.6,
             "#e6f5d0"
            ],
            [
             0.7,
             "#b8e186"
            ],
            [
             0.8,
             "#7fbc41"
            ],
            [
             0.9,
             "#4d9221"
            ],
            [
             1,
             "#276419"
            ]
           ],
           "sequential": [
            [
             0,
             "#0d0887"
            ],
            [
             0.1111111111111111,
             "#46039f"
            ],
            [
             0.2222222222222222,
             "#7201a8"
            ],
            [
             0.3333333333333333,
             "#9c179e"
            ],
            [
             0.4444444444444444,
             "#bd3786"
            ],
            [
             0.5555555555555556,
             "#d8576b"
            ],
            [
             0.6666666666666666,
             "#ed7953"
            ],
            [
             0.7777777777777778,
             "#fb9f3a"
            ],
            [
             0.8888888888888888,
             "#fdca26"
            ],
            [
             1,
             "#f0f921"
            ]
           ],
           "sequentialminus": [
            [
             0,
             "#0d0887"
            ],
            [
             0.1111111111111111,
             "#46039f"
            ],
            [
             0.2222222222222222,
             "#7201a8"
            ],
            [
             0.3333333333333333,
             "#9c179e"
            ],
            [
             0.4444444444444444,
             "#bd3786"
            ],
            [
             0.5555555555555556,
             "#d8576b"
            ],
            [
             0.6666666666666666,
             "#ed7953"
            ],
            [
             0.7777777777777778,
             "#fb9f3a"
            ],
            [
             0.8888888888888888,
             "#fdca26"
            ],
            [
             1,
             "#f0f921"
            ]
           ]
          },
          "colorway": [
           "#636efa",
           "#EF553B",
           "#00cc96",
           "#ab63fa",
           "#FFA15A",
           "#19d3f3",
           "#FF6692",
           "#B6E880",
           "#FF97FF",
           "#FECB52"
          ],
          "font": {
           "color": "#2a3f5f"
          },
          "geo": {
           "bgcolor": "white",
           "lakecolor": "white",
           "landcolor": "white",
           "showlakes": true,
           "showland": true,
           "subunitcolor": "#C8D4E3"
          },
          "hoverlabel": {
           "align": "left"
          },
          "hovermode": "closest",
          "mapbox": {
           "style": "light"
          },
          "paper_bgcolor": "white",
          "plot_bgcolor": "white",
          "polar": {
           "angularaxis": {
            "gridcolor": "#EBF0F8",
            "linecolor": "#EBF0F8",
            "ticks": ""
           },
           "bgcolor": "white",
           "radialaxis": {
            "gridcolor": "#EBF0F8",
            "linecolor": "#EBF0F8",
            "ticks": ""
           }
          },
          "scene": {
           "xaxis": {
            "backgroundcolor": "white",
            "gridcolor": "#DFE8F3",
            "gridwidth": 2,
            "linecolor": "#EBF0F8",
            "showbackground": true,
            "ticks": "",
            "zerolinecolor": "#EBF0F8"
           },
           "yaxis": {
            "backgroundcolor": "white",
            "gridcolor": "#DFE8F3",
            "gridwidth": 2,
            "linecolor": "#EBF0F8",
            "showbackground": true,
            "ticks": "",
            "zerolinecolor": "#EBF0F8"
           },
           "zaxis": {
            "backgroundcolor": "white",
            "gridcolor": "#DFE8F3",
            "gridwidth": 2,
            "linecolor": "#EBF0F8",
            "showbackground": true,
            "ticks": "",
            "zerolinecolor": "#EBF0F8"
           }
          },
          "shapedefaults": {
           "line": {
            "color": "#2a3f5f"
           }
          },
          "ternary": {
           "aaxis": {
            "gridcolor": "#DFE8F3",
            "linecolor": "#A2B1C6",
            "ticks": ""
           },
           "baxis": {
            "gridcolor": "#DFE8F3",
            "linecolor": "#A2B1C6",
            "ticks": ""
           },
           "bgcolor": "white",
           "caxis": {
            "gridcolor": "#DFE8F3",
            "linecolor": "#A2B1C6",
            "ticks": ""
           }
          },
          "title": {
           "x": 0.05
          },
          "xaxis": {
           "automargin": true,
           "gridcolor": "#EBF0F8",
           "linecolor": "#EBF0F8",
           "ticks": "",
           "title": {
            "standoff": 15
           },
           "zerolinecolor": "#EBF0F8",
           "zerolinewidth": 2
          },
          "yaxis": {
           "automargin": true,
           "gridcolor": "#EBF0F8",
           "linecolor": "#EBF0F8",
           "ticks": "",
           "title": {
            "standoff": 15
           },
           "zerolinecolor": "#EBF0F8",
           "zerolinewidth": 2
          }
         }
        },
        "title": {
         "text": "Deformação x Força com Ruído"
        },
        "xaxis": {
         "title": {
          "text": "Deformação (m)"
         }
        },
        "yaxis": {
         "title": {
          "text": "Força (N)"
         }
        }
       }
      }
     },
     "metadata": {},
     "output_type": "display_data"
    }
   ],
   "source": [
    "import plotly.graph_objects as go\n",
    "import numpy as np\n",
    "\n",
    "# Dados com ruído\n",
    "deformacao = np.linspace(0, 1, 11)\n",
    "forca_medida = np.array([0.1, 1.2, 2.1, 3.3, 4.0, 5.1, 6.2, 7.0, 8.3, 9.1, 10.2])\n",
    "\n",
    "# Criar o gráfico interativo\n",
    "fig = go.Figure()\n",
    "\n",
    "# Adicionar os dados com ruído\n",
    "fig.add_trace(go.Scatter(x=deformacao, y=forca_medida, mode='markers', name='Dados com ruído', marker=dict(color='blue')))\n",
    "\n",
    "# Adicionar a relação linear esperada\n",
    "fig.add_trace(go.Scatter(x=deformacao, y=deformacao * 10, mode='lines', name='Relação linear esperada', line=dict(color='red', dash='dash')))\n",
    "\n",
    "# Configurar o layout do gráfico\n",
    "fig.update_layout(\n",
    "    title='Deformação x Força com Ruído',\n",
    "    xaxis_title='Deformação (m)',\n",
    "    yaxis_title='Força (N)',\n",
    "    legend=dict(font=dict(size=10)),\n",
    "    template='plotly_white'\n",
    ")\n",
    "\n",
    "# Exibir o gráfico\n",
    "fig.show()"
   ]
  }
 ],
 "metadata": {
  "kernelspec": {
   "display_name": "Python 3.13 (mlenv)",
   "language": "python",
   "name": "mlenv"
  },
  "language_info": {
   "codemirror_mode": {
    "name": "ipython",
    "version": 3
   },
   "file_extension": ".py",
   "mimetype": "text/x-python",
   "name": "python",
   "nbconvert_exporter": "python",
   "pygments_lexer": "ipython3",
   "version": "3.13.3"
  }
 },
 "nbformat": 4,
 "nbformat_minor": 5
}
